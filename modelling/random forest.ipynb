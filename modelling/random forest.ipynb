{
 "cells": [
  {
   "cell_type": "code",
   "execution_count": 2,
   "id": "af2f1dcb-2dbb-4ee4-ab77-9a947bc5d40f",
   "metadata": {
    "pycharm": {
     "name": "#%%\n"
    }
   },
   "outputs": [],
   "source": [
    "# import packages\n",
    "import numpy as np\n",
    "import pandas as pd\n",
    "from tools import FeatureEngineer\n",
    "\n",
    "from sklearn.model_selection import train_test_split\n",
    "from sklearn.preprocessing import MinMaxScaler\n",
    "from sklearn.linear_model import LinearRegression, Ridge\n",
    "from sklearn.ensemble import RandomForestRegressor\n",
    "from sklearn.metrics import mean_squared_error"
   ]
  },
  {
   "cell_type": "code",
   "execution_count": 3,
   "id": "50a40815-5902-4186-9ebd-92502681b166",
   "metadata": {
    "pycharm": {
     "name": "#%%\n"
    }
   },
   "outputs": [],
   "source": [
    "# load and prepare data\n",
    "bnb = pd.read_csv('bnb.csv') # load data\n",
    "bnb = bnb.sample(n=10000, replace=False, random_state=1) # 10000 samples\n",
    "tool = FeatureEngineer()\n",
    "bnb = tool.build_technical_indicators(bnb) # construct technical indicators\n",
    "bnb.drop(columns=['Asset_ID', 'KAMA', 'PSAR+', 'PSAR-'], inplace=True) # drop columns with too many NAs\n",
    "bnb.dropna(axis=0, inplace=True) # drop rows contain missing\n",
    "r = bnb.index[np.isinf(bnb).any(1)]\n",
    "bnb.drop([i for i in r], axis=0, inplace=True) # drop rows contain infinity"
   ]
  },
  {
   "cell_type": "code",
   "execution_count": 4,
   "id": "43911a25-d138-4e16-8872-d7d57d2aa4a1",
   "metadata": {
    "pycharm": {
     "name": "#%%\n"
    }
   },
   "outputs": [],
   "source": [
    "# set parameters\n",
    "split_ratio = 0.2\n",
    "scaler = MinMaxScaler()\n",
    "x = bnb.drop(columns=['Target', 'Open', 'High', 'Low'])\n",
    "y = bnb['Target']\n",
    "clf = RandomForestRegressor()"
   ]
  },
  {
   "cell_type": "code",
   "execution_count": 5,
   "id": "44c2ae81-0473-4df2-af3d-3f92fc310324",
   "metadata": {
    "pycharm": {
     "name": "#%%\n"
    }
   },
   "outputs": [
    {
     "name": "stdout",
     "output_type": "stream",
     "text": [
      "Mean Squared Error: 1.691063404804819e-05\n"
     ]
    }
   ],
   "source": [
    "# train\n",
    "x_train, x_test, y_train, y_test = train_test_split(x, y, test_size=split_ratio, random_state=42)\n",
    "x_train = scaler.fit_transform(x_train)\n",
    "x_test = scaler.transform(x_test)\n",
    "clf.fit(x_train, y_train)\n",
    "y_pred = clf.predict(x_test)\n",
    "print('Mean Squared Error:', mean_squared_error(y_test, y_pred))"
   ]
  },
  {
   "cell_type": "code",
   "execution_count": 6,
   "id": "15d38f9b-1409-48e2-b60a-072e67d5c904",
   "metadata": {
    "pycharm": {
     "name": "#%%\n"
    }
   },
   "outputs": [
    {
     "data": {
      "text/plain": "array([0.0257791 , 0.02329998, 0.00812041, 0.04157261, 0.00983132,\n       0.02709737, 0.0471757 , 0.01633233, 0.01741093, 0.01775159,\n       0.02706617, 0.01419328, 0.00676541, 0.0087481 , 0.02480277,\n       0.01814059, 0.01859304, 0.0069844 , 0.00889828, 0.01609507,\n       0.01465327, 0.01506935, 0.0161027 , 0.00773287, 0.01577121,\n       0.00767739, 0.01245826, 0.0223793 , 0.01049326, 0.01968399,\n       0.01779427, 0.00036308, 0.01043391, 0.01080334, 0.01108904,\n       0.00736143, 0.01160226, 0.00407817, 0.0110184 , 0.0135078 ,\n       0.00699709, 0.01882252, 0.00684033, 0.01068555, 0.01383817,\n       0.00427605, 0.00431546, 0.00423618, 0.01427234, 0.01431883,\n       0.01589434, 0.01367903, 0.00565011, 0.00931013, 0.00838011,\n       0.00806363, 0.01069588, 0.02101936, 0.01118985, 0.00984811,\n       0.01815048, 0.0164131 , 0.01752626, 0.00911494, 0.01992827,\n       0.014998  , 0.02548008, 0.01051017, 0.00829255, 0.01221323,\n       0.01030809])"
     },
     "execution_count": 6,
     "metadata": {},
     "output_type": "execute_result"
    }
   ],
   "source": [
    "# check feature importance\n",
    "clf.feature_importances_"
   ]
  },
  {
   "cell_type": "code",
   "execution_count": 7,
   "id": "02c096b1-1a1d-477a-881d-e7ca53b0dd1c",
   "metadata": {
    "pycharm": {
     "name": "#%%\n"
    }
   },
   "outputs": [],
   "source": [
    "threshold = 0.01\n",
    "not_important = {}\n",
    "important_features = {}\n",
    "feature_name = [item for item in x.columns]\n",
    "feature_importance = clf.feature_importances_"
   ]
  },
  {
   "cell_type": "code",
   "execution_count": 9,
   "id": "5bb4f07d-000b-4097-80b2-bc04a94d29a8",
   "metadata": {
    "pycharm": {
     "name": "#%%\n"
    }
   },
   "outputs": [
    {
     "name": "stdout",
     "output_type": "stream",
     "text": [
      "{'timestamp': 0.0258, 'Count': 0.0233, 'Volume': 0.0416, 'open_sub_close': 0.0271, 'high_div_low': 0.0472, 'ma8_vol': 0.0163, 'ma21_vol': 0.0174, 'ma50_vol': 0.0178, 'ma200_vol': 0.0271, 'AO': 0.0142, 'PVO': 0.0248, 'PVO_signal': 0.0181, 'ROC': 0.0186, 'RSI_stoch_d': 0.0161, 'RSI_stoch_k': 0.0147, 'stoch': 0.0151, 'stoch_signal': 0.0161, 'ult': 0.0158, 'ADI': 0.0125, 'CMF': 0.0224, 'EoM': 0.0105, 'EoM_signal': 0.0197, 'MFI': 0.0178, 'OBV': 0.0104, 'VPT': 0.0108, 'ATR': 0.0111, 'BOLL-': 0.0116, 'BOLL_percent': 0.011, 'BOLL_width': 0.0135, 'DC-': 0.0188, 'DC_percent': 0.0107, 'DC_width': 0.0138, 'KC_percent': 0.0143, 'KC_width': 0.0143, 'Ulcer': 0.0159, 'ADX': 0.0137, 'ema50_price': 0.0107, 'ema200_price': 0.021, 'MACD': 0.0112, 'MI': 0.0182, 'PSAR': 0.0164, 'STC': 0.0175, 'VI': 0.0199, 'VI+': 0.015, 'VI-': 0.0255, 'WMA': 0.0105, 'DLR': 0.0122, 'DR': 0.0103}\n",
      "\n",
      "{'Close': 0.0081, 'VWAP': 0.0098, 'PPO': 0.0068, 'PPO_signal': 0.0087, 'RSI': 0.007, 'RSI_stoch': 0.0089, 'TSI': 0.0077, 'WRI': 0.0077, 'NVI': 0.0004, 'BOLL+': 0.0074, 'BOLL_mid': 0.0041, 'DC+': 0.007, 'DC_mid': 0.0068, 'KC+': 0.0043, 'KC-': 0.0043, 'KC_mid': 0.0042, 'ADX+': 0.0057, 'ADX-': 0.0093, 'ema7_price': 0.0084, 'ema21_price': 0.0081, 'MACD_signal': 0.0098, 'TRIX': 0.0091, 'CR': 0.0083}\n"
     ]
    }
   ],
   "source": [
    "\n",
    "for idx, val in enumerate(feature_importance):\n",
    "    if val > threshold:\n",
    "        important_features[feature_name[idx]] = round(val, 4)\n",
    "    else:\n",
    "        not_important[feature_name[idx]] = round(val, 4)\n",
    "        \n",
    "print(important_features)\n",
    "print()\n",
    "print(not_important)"
   ]
  },
  {
   "cell_type": "code",
   "execution_count": null,
   "id": "89509c40-786e-4a34-848e-2ba94aeaec70",
   "metadata": {
    "pycharm": {
     "name": "#%%\n"
    }
   },
   "outputs": [],
   "source": []
  }
 ],
 "metadata": {
  "kernelspec": {
   "display_name": "Python 3 (ipykernel)",
   "language": "python",
   "name": "python3"
  },
  "language_info": {
   "codemirror_mode": {
    "name": "ipython",
    "version": 3
   },
   "file_extension": ".py",
   "mimetype": "text/x-python",
   "name": "python",
   "nbconvert_exporter": "python",
   "pygments_lexer": "ipython3",
   "version": "3.9.9"
  }
 },
 "nbformat": 4,
 "nbformat_minor": 5
}