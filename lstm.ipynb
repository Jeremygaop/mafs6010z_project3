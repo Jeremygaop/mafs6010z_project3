{
 "cells": [
  {
   "cell_type": "markdown",
   "id": "c73561ef-ba35-4454-bf09-f2b05dfeebd5",
   "metadata": {
    "pycharm": {
     "name": "#%% md\n"
    }
   },
   "source": [
    "#### Imports"
   ]
  },
  {
   "cell_type": "code",
   "execution_count": 1,
   "id": "38f90b3e-a55e-459e-aba9-47909249dd17",
   "metadata": {
    "pycharm": {
     "name": "#%%\n"
    }
   },
   "outputs": [],
   "source": [
    "import numpy as np\n",
    "import pandas as pd\n",
    "import seaborn as sns\n",
    "import matplotlib.pyplot as plt\n",
    "from tools import FeatureEngineer\n",
    "from tqdm import tqdm\n",
    "\n",
    "from sklearn.preprocessing import MinMaxScaler\n",
    "from sklearn.model_selection import train_test_split\n",
    "\n",
    "import torch\n",
    "import torch.nn as nn\n",
    "import torch.optim as optim\n",
    "from torch.utils import data\n",
    "from torch.utils.data import Dataset, DataLoader\n",
    "from torch.nn import functional as F\n",
    "from torchvision import datasets, models, transforms"
   ]
  },
  {
   "cell_type": "markdown",
   "id": "4d6ea6d0-a908-4667-9ced-ff9f1fa8e6a5",
   "metadata": {
    "pycharm": {
     "name": "#%% md\n"
    }
   },
   "source": [
    "#### Load Data"
   ]
  },
  {
   "cell_type": "code",
   "execution_count": 2,
   "id": "837f9fd0-da82-49e0-aa10-67d8a800a344",
   "metadata": {
    "pycharm": {
     "name": "#%%\n"
    }
   },
   "outputs": [],
   "source": [
    "bnb = pd.read_csv('bnb.csv') # load data\n",
    "bnb = bnb.sample(n=50000, replace=False, random_state=1)\n",
    "tool = FeatureEngineer()\n",
    "bnb = tool.build_technical_indicators(bnb) # construct technical indicators\n",
    "bnb.drop(columns=['Asset_ID', 'KAMA', 'PSAR+', 'PSAR-'], inplace=True) # drop columns with too many NAs\n",
    "bnb.dropna(axis=0, inplace=True) # drop rows contain missing\n",
    "r = bnb.index[np.isinf(bnb).any(1)]\n",
    "bnb.drop([i for i in r], axis=0, inplace=True) # drop rows contain infinity"
   ]
  },
  {
   "cell_type": "code",
   "execution_count": 3,
   "id": "d5d9a3e3-617f-4819-8453-44dd22e24b97",
   "metadata": {
    "pycharm": {
     "name": "#%%\n"
    }
   },
   "outputs": [
    {
     "name": "stdout",
     "output_type": "stream",
     "text": [
      "Training data size: (39840, 75) Validation data size: (9961, 75)\n"
     ]
    }
   ],
   "source": [
    "train, test = train_test_split(bnb, test_size=0.2) # split train and test\n",
    "print(f\"Training data size: {train.shape}\",\n",
    "      f\"Validation data size: {test.shape}\")"
   ]
  },
  {
   "cell_type": "markdown",
   "id": "eaec4797-0ea5-47aa-865c-1b349e31ad79",
   "metadata": {
    "pycharm": {
     "name": "#%% md\n"
    }
   },
   "source": [
    "#### Hyperparameters"
   ]
  },
  {
   "cell_type": "code",
   "execution_count": 4,
   "id": "1d9a1006-9f39-4bba-af92-d8abd15618b3",
   "metadata": {
    "pycharm": {
     "name": "#%%\n"
    }
   },
   "outputs": [],
   "source": [
    "SEQ_LENGTH    = 60\n",
    "TARGET        = 'Target'\n",
    "FEATURES      = [feature for feature in bnb.columns if feature not in TARGET]\n",
    "BATCH_SIZE    = 5\n",
    "NUM_FEATURES  = len(FEATURES)\n",
    "HIDDEN_SIZE   = 50\n",
    "NUM_LAYERS    = 2\n",
    "OUTPUT_SIZE   = 1\n",
    "DROPOUT       = 0.2\n",
    "LEARNING_RATE = 0.0001"
   ]
  },
  {
   "cell_type": "markdown",
   "id": "26e9a8e4-c926-4161-a543-03c5a843393e",
   "metadata": {
    "pycharm": {
     "name": "#%% md\n"
    }
   },
   "source": [
    "#### Dataset"
   ]
  },
  {
   "cell_type": "code",
   "execution_count": 5,
   "id": "82411b19-027d-456f-b1b5-40af22d335cd",
   "metadata": {
    "pycharm": {
     "name": "#%%\n"
    }
   },
   "outputs": [],
   "source": [
    "class CryptoDataset(Dataset):\n",
    "    \n",
    "    # data loading\n",
    "    def __init__(self, data, seq_length, features, target):\n",
    "\n",
    "        self.data = data\n",
    "        self.target = target\n",
    "        self.features = features\n",
    "        self.seq_length = seq_length\n",
    "        self.data_length = len(data)\n",
    "    \n",
    "        self.metrics = self.create_pairs()\n",
    "    \n",
    "    def __getitem__(self, index):\n",
    "        return self.metrics[index]\n",
    "        \n",
    "    def __len__(self):\n",
    "        return len(self.metrics)\n",
    "    \n",
    "    def create_pairs(self):\n",
    "        pairs = []\n",
    "        for index in range(self.data_length - self.seq_length):\n",
    "            x = self.data[index:index + self.seq_length][self.features].values\n",
    "            y = self.data[index + self.seq_length:index + self.seq_length + 1][self.target].values\n",
    "            pairs.append((x, y))\n",
    "        return pairs"
   ]
  },
  {
   "cell_type": "code",
   "execution_count": 6,
   "id": "89a60683-bdcc-4190-9c1c-caea9734a2bc",
   "metadata": {
    "pycharm": {
     "name": "#%%\n"
    }
   },
   "outputs": [],
   "source": [
    "# transfer to dataloader\n",
    "train_ds = CryptoDataset(train, SEQ_LENGTH, FEATURES, TARGET)\n",
    "train_dl = DataLoader(train_ds, batch_size=BATCH_SIZE, drop_last=True)\n",
    "\n",
    "test_ds = CryptoDataset(test, SEQ_LENGTH, FEATURES, TARGET)\n",
    "test_dl = DataLoader(test_ds, batch_size=BATCH_SIZE, drop_last=True)"
   ]
  },
  {
   "cell_type": "markdown",
   "id": "4a873bad-025d-4651-8b5a-8b09a85647cd",
   "metadata": {
    "tags": [],
    "pycharm": {
     "name": "#%% md\n"
    }
   },
   "source": [
    "#### Model"
   ]
  },
  {
   "cell_type": "code",
   "execution_count": 7,
   "id": "3bda0f88-2654-4375-955c-f17db174173c",
   "metadata": {
    "pycharm": {
     "name": "#%%\n"
    }
   },
   "outputs": [],
   "source": [
    "# Device configuration\n",
    "device = torch.device('cuda' if torch.cuda.is_available() else 'cpu')"
   ]
  },
  {
   "cell_type": "code",
   "execution_count": 8,
   "id": "f2f4544c-95cb-4762-a50d-56ed8044bc12",
   "metadata": {
    "pycharm": {
     "name": "#%%\n"
    }
   },
   "outputs": [],
   "source": [
    "class LSTM(nn.Module):\n",
    "    def __init__(self, input_size, hidden_size, num_layers, output_size, dropout_prob, directions=1):\n",
    "        super(LSTM, self).__init__()\n",
    "        \n",
    "        self.num_layers = num_layers\n",
    "        self.hidden_size = hidden_size\n",
    "        self.directions = directions\n",
    "        \n",
    "        self.lstm = nn.LSTM(input_size, hidden_size, num_layers, batch_first=True, dropout=dropout_prob)\n",
    "        self.dropout = nn.Dropout(dropout_prob)\n",
    "        self.linear = nn.Linear(hidden_size, output_size)\n",
    "        \n",
    "    def init_hidden_states(self, batch_size):\n",
    "        state_dim = (self.num_layers * self.directions, batch_size, self.hidden_size)\n",
    "        return (torch.zeros(state_dim).to(device), torch.zeros(state_dim).to(device))\n",
    "    \n",
    "    def forward(self, x, states):\n",
    "        x, (h, c) = self.lstm(x, states)\n",
    "        out = self.linear(x)\n",
    "        return out, (h, c)"
   ]
  },
  {
   "cell_type": "code",
   "execution_count": 9,
   "id": "75be8995-cda9-4698-a5a2-e20782137653",
   "metadata": {
    "pycharm": {
     "name": "#%%\n"
    }
   },
   "outputs": [],
   "source": [
    "model = LSTM(\n",
    "    NUM_FEATURES,\n",
    "    HIDDEN_SIZE,\n",
    "    NUM_LAYERS,\n",
    "    OUTPUT_SIZE,\n",
    "    DROPOUT\n",
    ").to(device)\n",
    "\n",
    "criterion = nn.MSELoss()\n",
    "optimizer = optim.AdamW(model.linear.parameters(), lr=LEARNING_RATE, weight_decay=0.01)"
   ]
  },
  {
   "cell_type": "markdown",
   "id": "67a602af-a4b0-4ed5-b620-e1e5e4b41bc1",
   "metadata": {
    "pycharm": {
     "name": "#%% md\n"
    }
   },
   "source": [
    "#### Training"
   ]
  },
  {
   "cell_type": "code",
   "execution_count": 10,
   "id": "ca0d87cc-5c9d-4f12-957a-1a22458e81ef",
   "metadata": {
    "pycharm": {
     "name": "#%%\n"
    }
   },
   "outputs": [],
   "source": [
    "def save_checkpoint(epoch, min_val_loss, model_state, opt_state):\n",
    "    print(f\"New minimum reached at epoch #{epoch + 1}, saving model state...\")\n",
    "    checkpoint = {\n",
    "        'epoch': epoch + 1,\n",
    "        'min_val_loss': min_val_loss,\n",
    "        'model_state': model_state,\n",
    "        'opt_state': opt_state,\n",
    "    }\n",
    "    torch.save(checkpoint, \"./model_state.pt\")\n",
    "\n",
    "\n",
    "def load_checkpoint(path, model, optimizer):\n",
    "    # load check point\n",
    "    checkpoint = torch.load(path)\n",
    "    min_val_loss = checkpoint[\"min_val_loss\"]\n",
    "    model.load_state_dict(checkpoint[\"model_state\"])\n",
    "    optimizer.load_state_dict(checkpoint[\"opt_state\"])\n",
    "    return model, optimizer, checkpoint[\"epoch\"], min_val_loss\n",
    "\n",
    "def training(model, epochs, validate_every=2):\n",
    "\n",
    "    training_losses = []\n",
    "    validation_losses = []\n",
    "    min_validation_loss = np.Inf\n",
    "\n",
    "    # Set to train mode\n",
    "    model.train()\n",
    "\n",
    "    for epoch in tqdm(range(epochs)):\n",
    "\n",
    "        # Initialize hidden and cell states with dimension:\n",
    "        # (num_layers * num_directions, batch, hidden_size)\n",
    "        states = model.init_hidden_states(BATCH_SIZE)\n",
    "        running_training_loss = 0.0\n",
    "\n",
    "        # Begin training\n",
    "        for idx, (x_batch, y_batch) in enumerate(train_dl):\n",
    "            # Convert to Tensors\n",
    "            x_batch = x_batch.float().to(device)\n",
    "            y_batch = y_batch.float().to(device)\n",
    "    \n",
    "            # Truncated Backpropagation\n",
    "            states = [state.detach() for state in states]          \n",
    "\n",
    "            optimizer.zero_grad()\n",
    "\n",
    "            # Make prediction\n",
    "            output, states = model(x_batch, states)\n",
    "\n",
    "            # Calculate loss\n",
    "            loss = criterion(output[:, -1, :], y_batch)\n",
    "            loss.backward()\n",
    "            running_training_loss += loss.item()\n",
    "\n",
    "            torch.nn.utils.clip_grad_norm_(model.parameters(), 0.5)\n",
    "            optimizer.step()\n",
    "        \n",
    "        # Average loss across timesteps\n",
    "        training_losses.append(running_training_loss / len(train_dl))\n",
    "        \n",
    "        if epoch % validate_every == 0:\n",
    "            # Set to eval mode\n",
    "            model.eval()\n",
    "\n",
    "            validation_states = model.init_hidden_states(BATCH_SIZE)\n",
    "            running_validation_loss = 0.0\n",
    "\n",
    "            for idx, (x_batch, y_batch) in enumerate(test_dl):\n",
    "\n",
    "                # Convert to Tensors\n",
    "                x_batch = x_batch.float().to(device)\n",
    "                y_batch = y_batch.float().to(device)\n",
    "      \n",
    "                validation_states = [state.detach() for state in validation_states]\n",
    "                output, validation_states = model(x_batch, validation_states)\n",
    "                validation_loss = criterion(output[:, -1, :], y_batch)\n",
    "                running_validation_loss += validation_loss.item()\n",
    "        \n",
    "        validation_losses.append(running_validation_loss / len(test_dl))\n",
    "        # Reset to training mode\n",
    "        model.train()\n",
    "    \n",
    "        is_best = running_validation_loss / len(test_dl) < min_validation_loss\n",
    "\n",
    "        if is_best:\n",
    "            min_validation_loss = running_validation_loss / len(test_dl)\n",
    "            save_checkpoint(epoch + 1, min_validation_loss, model.state_dict(), optimizer.state_dict())\n",
    "        \n",
    "\n",
    "    # Visualize loss\n",
    "    epoch_count = range(1, len(training_losses) + 1)\n",
    "    plt.plot(epoch_count, training_losses, 'r--')\n",
    "    plt.legend(['Training Loss'])\n",
    "    plt.xlabel('Epoch')\n",
    "    plt.ylabel('Loss')\n",
    "    plt.show()\n",
    "\n",
    "    val_epoch_count = range(1, len(validation_losses) + 1)\n",
    "    plt.plot(val_epoch_count, validation_losses, 'b--')\n",
    "    plt.legend(['Validation loss'])\n",
    "    plt.xlabel('Epoch')\n",
    "    plt.ylabel('Loss')\n",
    "    plt.show()"
   ]
  },
  {
   "cell_type": "code",
   "execution_count": 11,
   "id": "b479dac4-a72d-4c7b-a83f-98086290c131",
   "metadata": {
    "pycharm": {
     "name": "#%%\n"
    }
   },
   "outputs": [
    {
     "name": "stderr",
     "output_type": "stream",
     "text": [
      "  1%|          | 1/100 [00:34<57:15, 34.70s/it]"
     ]
    },
    {
     "name": "stdout",
     "output_type": "stream",
     "text": [
      "New minimum reached at epoch #2, saving model state...\n"
     ]
    },
    {
     "name": "stderr",
     "output_type": "stream",
     "text": [
      "  3%|▎         | 3/100 [01:41<54:41, 33.83s/it]"
     ]
    },
    {
     "name": "stdout",
     "output_type": "stream",
     "text": [
      "New minimum reached at epoch #4, saving model state...\n"
     ]
    },
    {
     "name": "stderr",
     "output_type": "stream",
     "text": [
      "  5%|▌         | 5/100 [02:43<51:12, 32.34s/it]"
     ]
    },
    {
     "name": "stdout",
     "output_type": "stream",
     "text": [
      "New minimum reached at epoch #6, saving model state...\n"
     ]
    },
    {
     "name": "stderr",
     "output_type": "stream",
     "text": [
      "  7%|▋         | 7/100 [03:45<48:50, 31.51s/it]"
     ]
    },
    {
     "name": "stdout",
     "output_type": "stream",
     "text": [
      "New minimum reached at epoch #8, saving model state...\n"
     ]
    },
    {
     "name": "stderr",
     "output_type": "stream",
     "text": [
      "  9%|▉         | 9/100 [04:44<46:24, 30.60s/it]"
     ]
    },
    {
     "name": "stdout",
     "output_type": "stream",
     "text": [
      "New minimum reached at epoch #10, saving model state...\n"
     ]
    },
    {
     "name": "stderr",
     "output_type": "stream",
     "text": [
      " 11%|█         | 11/100 [05:46<46:07, 31.09s/it]"
     ]
    },
    {
     "name": "stdout",
     "output_type": "stream",
     "text": [
      "New minimum reached at epoch #12, saving model state...\n"
     ]
    },
    {
     "name": "stderr",
     "output_type": "stream",
     "text": [
      " 17%|█▋        | 17/100 [08:46<41:43, 30.16s/it]"
     ]
    },
    {
     "name": "stdout",
     "output_type": "stream",
     "text": [
      "New minimum reached at epoch #18, saving model state...\n"
     ]
    },
    {
     "name": "stderr",
     "output_type": "stream",
     "text": [
      " 71%|███████   | 71/100 [35:28<14:37, 30.25s/it]"
     ]
    },
    {
     "name": "stdout",
     "output_type": "stream",
     "text": [
      "New minimum reached at epoch #72, saving model state...\n"
     ]
    },
    {
     "name": "stderr",
     "output_type": "stream",
     "text": [
      " 81%|████████  | 81/100 [40:19<09:16, 29.31s/it]"
     ]
    },
    {
     "name": "stdout",
     "output_type": "stream",
     "text": [
      "New minimum reached at epoch #82, saving model state...\n"
     ]
    },
    {
     "name": "stderr",
     "output_type": "stream",
     "text": [
      "100%|██████████| 100/100 [50:05<00:00, 30.06s/it]\n"
     ]
    },
    {
     "data": {
      "text/plain": "<Figure size 640x480 with 1 Axes>",
      "image/png": "[encoded data removed]"
     },
     "metadata": {},
     "output_type": "display_data"
    },
    {
     "data": {
      "text/plain": "<Figure size 640x480 with 1 Axes>",
      "image/png": "[encoded data removed]"
     },
     "metadata": {},
     "output_type": "display_data"
    }
   ],
   "source": [
    "training(model, 100)"
   ]
  },
  {
   "cell_type": "markdown",
   "id": "a7b72ab2-c905-46eb-b7e7-62cfa30b5f2d",
   "metadata": {
    "pycharm": {
     "name": "#%% md\n"
    }
   },
   "source": [
    "Result"
   ]
  },
  {
   "cell_type": "code",
   "execution_count": 12,
   "id": "49c70384-810c-4397-a371-b9c4443bee8e",
   "metadata": {
    "pycharm": {
     "name": "#%%\n"
    }
   },
   "outputs": [
    {
     "name": "stdout",
     "output_type": "stream",
     "text": [
      "model =  LSTM(\n",
      "  (lstm): LSTM(74, 50, num_layers=2, batch_first=True, dropout=0.2)\n",
      "  (dropout): Dropout(p=0.2, inplace=False)\n",
      "  (linear): Linear(in_features=50, out_features=1, bias=True)\n",
      ")\n",
      "optimizer =  AdamW (\n",
      "Parameter Group 0\n",
      "    amsgrad: False\n",
      "    betas: (0.9, 0.999)\n",
      "    capturable: False\n",
      "    differentiable: False\n",
      "    eps: 1e-08\n",
      "    foreach: None\n",
      "    fused: None\n",
      "    lr: 0.0001\n",
      "    maximize: False\n",
      "    weight_decay: 0.01\n",
      ")\n",
      "start_epoch =  82\n",
      "valid_loss_min =  1.9588802740571223e-05\n",
      "valid_loss_min = 0.000020\n"
     ]
    }
   ],
   "source": [
    "path = \"./model_state.pt\"\n",
    "model, optimizer, start_epoch, valid_loss_min = load_checkpoint(path, model, optimizer)\n",
    "print(\"model = \", model)\n",
    "print(\"optimizer = \", optimizer)\n",
    "print(\"start_epoch = \", start_epoch)\n",
    "print(\"valid_loss_min = \", valid_loss_min)\n",
    "print(\"valid_loss_min = {:.6f}\".format(valid_loss_min))"
   ]
  },
  {
   "cell_type": "code",
   "execution_count": 12,
   "id": "167f3464-0da9-41b6-932d-3f883b197099",
   "metadata": {
    "pycharm": {
     "name": "#%%\n"
    }
   },
   "outputs": [],
   "source": []
  }
 ],
 "metadata": {
  "kernelspec": {
   "display_name": "Python 3 (ipykernel)",
   "language": "python",
   "name": "python3"
  },
  "language_info": {
   "codemirror_mode": {
    "name": "ipython",
    "version": 3
   },
   "file_extension": ".py",
   "mimetype": "text/x-python",
   "name": "python",
   "nbconvert_exporter": "python",
   "pygments_lexer": "ipython3",
   "version": "3.9.9"
  }
 },
 "nbformat": 4,
 "nbformat_minor": 5
}