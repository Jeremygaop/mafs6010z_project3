{
 "cells": [
  {
   "cell_type": "code",
   "execution_count": 2,
   "id": "af2f1dcb-2dbb-4ee4-ab77-9a947bc5d40f",
   "metadata": {
    "pycharm": {
     "name": "#%%\n"
    }
   },
   "outputs": [],
   "source": [
    "# import packages\n",
    "import numpy as np\n",
    "import pandas as pd\n",
    "##from tools import FeatureEngineer\n",
    "\n",
    "from sklearn.model_selection import train_test_split\n",
    "from sklearn.preprocessing import MinMaxScaler\n",
    "from sklearn.linear_model import LinearRegression, Ridge\n",
    "from sklearn.ensemble import RandomForestRegressor\n",
    "from sklearn.metrics import mean_squared_error"
   ]
  },
  {
   "cell_type": "code",
   "execution_count": 3,
   "id": "2241d93d",
   "metadata": {},
   "outputs": [],
   "source": [
    "import numpy as np\n",
    "import pandas as pd\n",
    "from datetime import datetime\n",
    "import pandas_datareader as pdr\n",
    "import os\n",
    "\n",
    "from ta.momentum import AwesomeOscillatorIndicator, KAMAIndicator, PercentagePriceOscillator\n",
    "from ta.momentum import PercentageVolumeOscillator, ROCIndicator\n",
    "from ta.momentum import RSIIndicator, StochRSIIndicator, StochasticOscillator\n",
    "from ta.momentum import TSIIndicator, UltimateOscillator, WilliamsRIndicator\n",
    "from ta.volume import AccDistIndexIndicator, ChaikinMoneyFlowIndicator\n",
    "from ta.volume import EaseOfMovementIndicator, MFIIndicator\n",
    "from ta.volume import NegativeVolumeIndexIndicator, OnBalanceVolumeIndicator, VolumePriceTrendIndicator\n",
    "from ta.volatility import AverageTrueRange, BollingerBands, DonchianChannel, KeltnerChannel, UlcerIndex\n",
    "from ta.trend import ADXIndicator, EMAIndicator, MACD, MassIndex, PSARIndicator\n",
    "from ta.trend import STCIndicator, TRIXIndicator, WMAIndicator, VortexIndicator\n",
    "from ta.others import CumulativeReturnIndicator, DailyLogReturnIndicator, DailyReturnIndicator\n",
    "\n",
    "class FeatureEngineer():\n",
    "\n",
    "    # add new features\n",
    "    def build_technical_indicators(self, df):\n",
    "        \n",
    "        df['open_sub_close'] = df['Open'] - df['Close']\n",
    "        df['high_div_low'] = df['High'] / df['Low']\n",
    "\n",
    "        # MA8, 21, 50, 200 - volume\n",
    "        df['ma8_vol'] = df['Volume'].rolling(8).mean()\n",
    "        df['ma21_vol'] = df['Volume'].rolling(21).mean()\n",
    "        df['ma50_vol'] = df['Volume'].rolling(50).mean()\n",
    "        df['ma200_vol'] = df['Volume'].rolling(200).mean()\n",
    "        \n",
    "        \n",
    "        \n",
    "        # momentum indicators\n",
    "        moment_aoi = AwesomeOscillatorIndicator(df['High'], df['Low'])\n",
    "        df['AO'] = moment_aoi.awesome_oscillator()\n",
    "        \n",
    "        moment_kama = KAMAIndicator(df['Close']) # Kaufman's Adaptive Moving Average\n",
    "        df['KAMA'] = moment_kama.kama()\n",
    "        \n",
    "        moment_ppo = PercentagePriceOscillator(df['Close'])\n",
    "        df['PPO'], df['PPO_signal'] = moment_ppo.ppo(), moment_ppo.ppo_signal()\n",
    "        \n",
    "        moment_pvo = PercentageVolumeOscillator(df['Volume'])\n",
    "        df['PVO'], df['PVO_signal'] = moment_pvo.pvo(), moment_pvo.pvo_signal()\n",
    "        \n",
    "        moment_roc = ROCIndicator(df['Close']) # Rate of Change\n",
    "        df['ROC'] = moment_roc.roc()\n",
    "        \n",
    "        moment_rsi = RSIIndicator(df['Close']) # Relative Strength Index\n",
    "        df['RSI'] = moment_rsi.rsi()\n",
    "        \n",
    "        moment_rsi_ = StochRSIIndicator(df['Close'])\n",
    "        df['RSI_stoch'] = moment_rsi_.stochrsi()\n",
    "        df['RSI_stoch_d'] = moment_rsi_.stochrsi_d()\n",
    "        df['RSI_stoch_k'] = moment_rsi_.stochrsi_k()\n",
    "        \n",
    "        moment_stoch = StochasticOscillator(df['Close'], df['High'], df['Low'])\n",
    "        df['stoch'], df['stoch_signal'] = moment_stoch.stoch(), moment_stoch.stoch_signal()\n",
    "        \n",
    "        moment_tsi = TSIIndicator(df['Close']) # True Strength Index\n",
    "        df['TSI'] = moment_tsi.tsi()\n",
    "        \n",
    "        moment_ult = UltimateOscillator(df['High'], df['Low'], df['Close'])\n",
    "        df['ult'] = moment_ult.ultimate_oscillator()\n",
    "        \n",
    "        moment_wri = WilliamsRIndicator(df['High'], df['Low'], df['Close']) # Williams %R\n",
    "        df['WRI'] = moment_wri.williams_r()\n",
    "        \n",
    "        \n",
    "        \n",
    "        # volume indicators\n",
    "        vol_adi = AccDistIndexIndicator(df['High'], df['Low'], df['Close'], df['Volume']) # Accumulation/Distribution Index\n",
    "        df['ADI'] = vol_adi.acc_dist_index()\n",
    "        \n",
    "        vol_cmf = ChaikinMoneyFlowIndicator(df['High'], df['Low'], df['Close'], df['Volume'])\n",
    "        df['CMF'] = vol_cmf.chaikin_money_flow()\n",
    "        \n",
    "        vol_eom = EaseOfMovementIndicator(df['High'], df['Low'], df['Volume'])\n",
    "        df['EoM'], df['EoM_signal'] = vol_eom.ease_of_movement(), vol_eom.sma_ease_of_movement()\n",
    "        \n",
    "        vol_mfi = MFIIndicator(df['High'], df['Low'], df['Close'], df['Volume']) # Money Flow Index\n",
    "        df['MFI'] = vol_mfi.money_flow_index()\n",
    "        \n",
    "        vol_nvi = NegativeVolumeIndexIndicator(df['Close'], df['Volume'])\n",
    "        df['NVI'] = vol_nvi.negative_volume_index()\n",
    "        \n",
    "        vol_obv = OnBalanceVolumeIndicator(df['Close'], df['Volume'])\n",
    "        df['OBV'] = vol_obv.on_balance_volume()\n",
    "        \n",
    "        vol_vpt = VolumePriceTrendIndicator(df['Close'], df['Volume'])\n",
    "        df['VPT'] = vol_vpt.volume_price_trend()\n",
    "        \n",
    "        \n",
    "        \n",
    "        # volatility indicators\n",
    "        vola_atr = AverageTrueRange(df['High'], df['Low'], df['Close'])\n",
    "        df['ATR'] = vola_atr.average_true_range()\n",
    "        \n",
    "        vola_boll = BollingerBands(df['Close'])\n",
    "        df['BOLL+'] = vola_boll.bollinger_hband()\n",
    "        df['BOLL-'] = vola_boll.bollinger_lband()\n",
    "        df['BOLL_mid'] = vola_boll.bollinger_mavg()\n",
    "        df['BOLL_percent'] = vola_boll.bollinger_pband()\n",
    "        df['BOLL_width'] = vola_boll.bollinger_wband()\n",
    "        \n",
    "        vola_dc = DonchianChannel(df['High'], df['Low'], df['Close'])\n",
    "        df['DC+'] = vola_dc.donchian_channel_hband()\n",
    "        df['DC-'] = vola_dc.donchian_channel_lband()\n",
    "        df['DC_mid'] = vola_dc.donchian_channel_mband()\n",
    "        df['DC_percent'] = vola_dc.donchian_channel_pband()\n",
    "        df['DC_width'] = vola_dc.donchian_channel_wband()\n",
    "        \n",
    "        vola_kc = KeltnerChannel(df['High'], df['Low'], df['Close'])\n",
    "        df['KC+'] = vola_kc.keltner_channel_hband()\n",
    "        df['KC-'] = vola_kc.keltner_channel_lband()\n",
    "        df['KC_mid'] = vola_kc.keltner_channel_mband()\n",
    "        df['KC_percent'] = vola_kc.keltner_channel_pband()\n",
    "        df['KC_width'] = vola_kc.keltner_channel_wband()\n",
    "        \n",
    "        vola_ui = UlcerIndex(df['Close'])\n",
    "        df['Ulcer'] = vola_ui.ulcer_index()\n",
    "        \n",
    "        \n",
    "        \n",
    "        # trend indicators\n",
    "        trend_adx = ADXIndicator(df['High'], df['Low'], df['Close']) \n",
    "        df['ADX'], df['ADX+'], df['ADX-'] = trend_adx.adx(), trend_adx.adx_pos(), trend_adx.adx_neg()\n",
    "        \n",
    "        df['ema7_price'] = EMAIndicator(df['Close'], 7).ema_indicator() # EMA7\n",
    "        df['ema21_price'] = EMAIndicator(df['Close'], 21).ema_indicator() # EMA21\n",
    "        df['ema50_price'] = EMAIndicator(df['Close'], 50).ema_indicator() # EMA50\n",
    "        df['ema200_price'] = EMAIndicator(df['Close'], 200).ema_indicator() # EMA200\n",
    "        \n",
    "        trend_macd = MACD(df['Close']) # MACD\n",
    "        df['MACD'], df['MACD_signal'] = trend_macd.macd(), trend_macd.macd_signal()\n",
    "        \n",
    "        trend_mass_index = MassIndex(df['High'], df['Low']) \n",
    "        df['MI'] = trend_mass_index.mass_index()\n",
    "        \n",
    "        trend_psar = PSARIndicator(df['High'], df['Low'], df['Close']) # Parabolic Stop and Reverse \n",
    "        df['PSAR'], df['PSAR+'], df['PSAR-'] = trend_psar.psar(), trend_psar.psar_up(), trend_psar.psar_down()\n",
    "        \n",
    "        trend_stc = STCIndicator(df['Close']) # Schaff Trend Cycle\n",
    "        df['STC'] = trend_stc.stc()\n",
    "        \n",
    "        trend_trix = TRIXIndicator(df['Close']) # Trix\n",
    "        df['TRIX'] = trend_trix.trix()\n",
    "        \n",
    "        trend_vi = VortexIndicator(df['High'], df['Low'], df['Close'])\n",
    "        df['VI'] = trend_vi.vortex_indicator_diff()\n",
    "        df['VI+'] = trend_vi.vortex_indicator_pos()\n",
    "        df['VI-'] = trend_vi.vortex_indicator_neg()\n",
    "        \n",
    "        trend_wma = WMAIndicator(df['Close']) # Weighted Moving Average\n",
    "        df['WMA'] = trend_wma.wma()\n",
    "        \n",
    "        \n",
    "        \n",
    "        # others indicators\n",
    "        other_cr = CumulativeReturnIndicator(df['Close'])\n",
    "        df['CR'] = other_cr.cumulative_return()\n",
    "        other_dlr = DailyLogReturnIndicator(df['Close'])\n",
    "        df['DLR'] = other_dlr.daily_log_return()\n",
    "        other_dr = DailyReturnIndicator(df['Close'])\n",
    "        df['DR'] = other_dr.daily_return()\n",
    "        \n",
    "        return df\n",
    "\n",
    "\n",
    "\n",
    "    def import_external_data():\n",
    "\n",
    "        # commodity\n",
    "        gc = pdr.get_data_yahoo('GC=F', start, end) # gold\n",
    "        sil = pdr.get_data_yahoo('SI=F', start, end) # silver\n",
    "        oil = pdr.get_data_yahoo('CL=F', start, end) # crude oil\n",
    "\n",
    "        # dollar and bond\n",
    "        dollar = pdr.get_data_yahoo('EURUSD=X', start, end) # EUR/USD\n",
    "        bond = pdr.get_data_yahoo('^TNX', start, end) # 10-year treasury bond\n",
    "\n",
    "        # futures 22\n",
    "        wheat = pdr.get_data_yahoo('ZWH22.CBT', start, end) # wheat\n",
    "        corn = pdr.get_data_yahoo('ZCH22.CBT', start, end) # corn\n",
    "        soy = pdr.get_data_yahoo('ZSH22.CBT', start, end) # soybean\n",
    "        oat = pdr.get_data_yahoo('ZOH22.CBT', start, end) # oat\n",
    "        usd = pdr.get_data_yahoo('DXH22.NYB', start, end) # USD\n",
    "\n",
    "        # stock market\n",
    "        spy = pdr.get_data_yahoo('SPY', start, end) # SPY\n",
    "        dia = pdr.get_data_yahoo('DIA', start, end) # DIA\n",
    "        qqq = pdr.get_data_yahoo('QQQ', start, end) # QQQ\n",
    "        iwm = pdr.get_data_yahoo('IWM', start, end) # russell\n",
    "        vix = pdr.get_data_yahoo('^VIX', start, end) # VIX\n",
    "        bkch = pdr.get_data_yahoo('BKCH', start, end) # blockchain etf"
   ]
  },
  {
   "cell_type": "code",
   "execution_count": 6,
   "id": "50a40815-5902-4186-9ebd-92502681b166",
   "metadata": {
    "pycharm": {
     "name": "#%%\n"
    }
   },
   "outputs": [],
   "source": [
    "# load and prepare data\n",
    "bnb = pd.read_csv('/Users/umay/Desktop/bnb.csv') # load data\n",
    "bnb = bnb.sample(n=10000, replace=False, random_state=1) # 10000 samples\n",
    "tool = FeatureEngineer()\n",
    "bnb = tool.build_technical_indicators(bnb) # construct technical indicators\n",
    "bnb.drop(columns=['KAMA', 'PSAR+', 'PSAR-'], inplace=True) # drop columns with too many NAs\n",
    "bnb.dropna(axis=0, inplace=True) # drop rows contain missing\n",
    "r = bnb.index[np.isinf(bnb).any(1)]\n",
    "bnb.drop([i for i in r], axis=0, inplace=True) # drop rows contain infinity"
   ]
  },
  {
   "cell_type": "code",
   "execution_count": 7,
   "id": "43911a25-d138-4e16-8872-d7d57d2aa4a1",
   "metadata": {
    "pycharm": {
     "name": "#%%\n"
    }
   },
   "outputs": [],
   "source": [
    "# set parameters\n",
    "split_ratio = 0.2\n",
    "scaler = MinMaxScaler()\n",
    "x = bnb.drop(columns=['Target', 'Open', 'High', 'Low'])\n",
    "y = bnb['Target']\n",
    "clf = RandomForestRegressor()"
   ]
  },
  {
   "cell_type": "code",
   "execution_count": 8,
   "id": "44c2ae81-0473-4df2-af3d-3f92fc310324",
   "metadata": {
    "pycharm": {
     "name": "#%%\n"
    }
   },
   "outputs": [
    {
     "name": "stdout",
     "output_type": "stream",
     "text": [
      "Mean Squared Error: 3.0033864853099684e-05\n"
     ]
    }
   ],
   "source": [
    "# train\n",
    "x_train, x_test, y_train, y_test = train_test_split(x, y, test_size=split_ratio, random_state=42)\n",
    "x_train = scaler.fit_transform(x_train)\n",
    "x_test = scaler.transform(x_test)\n",
    "clf.fit(x_train, y_train)\n",
    "y_pred = clf.predict(x_test)\n",
    "print('Mean Squared Error:', mean_squared_error(y_test, y_pred))"
   ]
  },
  {
   "cell_type": "code",
   "execution_count": 9,
   "id": "15d38f9b-1409-48e2-b60a-072e67d5c904",
   "metadata": {
    "pycharm": {
     "name": "#%%\n"
    }
   },
   "outputs": [
    {
     "data": {
      "text/plain": [
       "array([0.03375856, 0.03095087, 0.02106016, 0.01064667, 0.03329085,\n",
       "       0.01371276, 0.02653858, 0.05287333, 0.01359746, 0.01549199,\n",
       "       0.01744183, 0.0187218 , 0.01263142, 0.00837183, 0.0067776 ,\n",
       "       0.01642135, 0.01286014, 0.02139681, 0.00567311, 0.00995894,\n",
       "       0.02140224, 0.01082155, 0.01459129, 0.01391734, 0.00674435,\n",
       "       0.01946257, 0.00720363, 0.01213758, 0.01899219, 0.01174085,\n",
       "       0.02036005, 0.01776338, 0.00072223, 0.01267157, 0.00949542,\n",
       "       0.01694902, 0.00950384, 0.01208836, 0.00399603, 0.0105896 ,\n",
       "       0.01192425, 0.00691906, 0.01805783, 0.00844375, 0.00978595,\n",
       "       0.01250078, 0.00419903, 0.00504886, 0.00456236, 0.01203604,\n",
       "       0.01300006, 0.01547187, 0.0141582 , 0.00727525, 0.01065667,\n",
       "       0.00976106, 0.00643216, 0.01027161, 0.01824707, 0.00848273,\n",
       "       0.00873727, 0.01532943, 0.02415838, 0.01379039, 0.00889529,\n",
       "       0.0144038 , 0.01400396, 0.01664935, 0.01041337, 0.01332772,\n",
       "       0.00973213, 0.00999515])"
      ]
     },
     "execution_count": 9,
     "metadata": {},
     "output_type": "execute_result"
    }
   ],
   "source": [
    "# check feature importance\n",
    "clf.feature_importances_"
   ]
  },
  {
   "cell_type": "code",
   "execution_count": 17,
   "id": "81574cbd",
   "metadata": {},
   "outputs": [],
   "source": [
    "\n",
    "fea_label =range(len(clf.feature_importances_))"
   ]
  },
  {
   "cell_type": "code",
   "execution_count": 28,
   "id": "10b79bf6",
   "metadata": {},
   "outputs": [],
   "source": [
    "feat_importances = pd.Series(clf.feature_importances_,index=fea_label).sort_values(ascending = False)\n"
   ]
  },
  {
   "cell_type": "code",
   "execution_count": 29,
   "id": "e388ca67",
   "metadata": {},
   "outputs": [
    {
     "data": {
      "text/plain": [
       "Text(0.5, 1.0, 'Variable Importances')"
      ]
     },
     "execution_count": 29,
     "metadata": {},
     "output_type": "execute_result"
    },
    {
     "data": {
      "image/png": "[encoded data removed]",
      "text/plain": [
       "<Figure size 720x720 with 1 Axes>"
      ]
     },
     "metadata": {
      "needs_background": "light"
     },
     "output_type": "display_data"
    }
   ],
   "source": [
    "import matplotlib.pyplot as plt\n",
    "plt.figure(3)\n",
    "plt.clf()\n",
    "importance_plot_x_values=list(range(len(feat_importances)))\n",
    "plt.bar(importance_plot_x_values,feat_importances,orientation='vertical')\n",
    "plt.xticks(importance_plot_x_values,fea_label,rotation='vertical')\n",
    "plt.xlabel('Variable')\n",
    "plt.ylabel('Importance')\n",
    "plt.title('Variable Importances')"
   ]
  },
  {
   "cell_type": "code",
   "execution_count": 7,
   "id": "02c096b1-1a1d-477a-881d-e7ca53b0dd1c",
   "metadata": {
    "pycharm": {
     "name": "#%%\n"
    }
   },
   "outputs": [],
   "source": [
    "threshold = 0.01\n",
    "not_important = {}\n",
    "important_features = {}\n",
    "feature_name = [item for item in x.columns]\n",
    "feature_importance = clf.feature_importances_"
   ]
  },
  {
   "cell_type": "code",
   "execution_count": 9,
   "id": "5bb4f07d-000b-4097-80b2-bc04a94d29a8",
   "metadata": {
    "pycharm": {
     "name": "#%%\n"
    }
   },
   "outputs": [
    {
     "name": "stdout",
     "output_type": "stream",
     "text": [
      "{'timestamp': 0.0258, 'Count': 0.0233, 'Volume': 0.0416, 'open_sub_close': 0.0271, 'high_div_low': 0.0472, 'ma8_vol': 0.0163, 'ma21_vol': 0.0174, 'ma50_vol': 0.0178, 'ma200_vol': 0.0271, 'AO': 0.0142, 'PVO': 0.0248, 'PVO_signal': 0.0181, 'ROC': 0.0186, 'RSI_stoch_d': 0.0161, 'RSI_stoch_k': 0.0147, 'stoch': 0.0151, 'stoch_signal': 0.0161, 'ult': 0.0158, 'ADI': 0.0125, 'CMF': 0.0224, 'EoM': 0.0105, 'EoM_signal': 0.0197, 'MFI': 0.0178, 'OBV': 0.0104, 'VPT': 0.0108, 'ATR': 0.0111, 'BOLL-': 0.0116, 'BOLL_percent': 0.011, 'BOLL_width': 0.0135, 'DC-': 0.0188, 'DC_percent': 0.0107, 'DC_width': 0.0138, 'KC_percent': 0.0143, 'KC_width': 0.0143, 'Ulcer': 0.0159, 'ADX': 0.0137, 'ema50_price': 0.0107, 'ema200_price': 0.021, 'MACD': 0.0112, 'MI': 0.0182, 'PSAR': 0.0164, 'STC': 0.0175, 'VI': 0.0199, 'VI+': 0.015, 'VI-': 0.0255, 'WMA': 0.0105, 'DLR': 0.0122, 'DR': 0.0103}\n",
      "\n",
      "{'Close': 0.0081, 'VWAP': 0.0098, 'PPO': 0.0068, 'PPO_signal': 0.0087, 'RSI': 0.007, 'RSI_stoch': 0.0089, 'TSI': 0.0077, 'WRI': 0.0077, 'NVI': 0.0004, 'BOLL+': 0.0074, 'BOLL_mid': 0.0041, 'DC+': 0.007, 'DC_mid': 0.0068, 'KC+': 0.0043, 'KC-': 0.0043, 'KC_mid': 0.0042, 'ADX+': 0.0057, 'ADX-': 0.0093, 'ema7_price': 0.0084, 'ema21_price': 0.0081, 'MACD_signal': 0.0098, 'TRIX': 0.0091, 'CR': 0.0083}\n"
     ]
    }
   ],
   "source": [
    "\n",
    "for idx, val in enumerate(feature_importance):\n",
    "    if val > threshold:\n",
    "        important_features[feature_name[idx]] = round(val, 4)\n",
    "    else:\n",
    "        not_important[feature_name[idx]] = round(val, 4)\n",
    "        \n",
    "print(important_features)\n",
    "print()\n",
    "print(not_important)"
   ]
  },
  {
   "cell_type": "code",
   "execution_count": null,
   "id": "89509c40-786e-4a34-848e-2ba94aeaec70",
   "metadata": {
    "pycharm": {
     "name": "#%%\n"
    }
   },
   "outputs": [],
   "source": []
  }
 ],
 "metadata": {
  "kernelspec": {
   "display_name": "Python 3 (ipykernel)",
   "language": "python",
   "name": "python3"
  },
  "language_info": {
   "codemirror_mode": {
    "name": "ipython",
    "version": 3
   },
   "file_extension": ".py",
   "mimetype": "text/x-python",
   "name": "python",
   "nbconvert_exporter": "python",
   "pygments_lexer": "ipython3",
   "version": "3.9.12"
  }
 },
 "nbformat": 4,
 "nbformat_minor": 5
}
